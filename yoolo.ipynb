{
  "cells": [
    {
      "cell_type": "code",
      "execution_count": null,
      "metadata": {
        "id": "VvCVJkJrFYoD"
      },
      "outputs": [],
      "source": [
        "!git clone https://github.com/ultralytics/yolov5  # clone\n",
        "%cd yolov5\n",
        "%pip install -qr requirements.txt  # install\n",
        "\n",
        "import torch\n",
        "import utils\n",
        "display = utils.notebook_init()  # checks"
      ]
    },
    {
      "cell_type": "code",
      "execution_count": 2,
      "metadata": {
        "id": "5dxNKufeuDG1"
      },
      "outputs": [],
      "source": [
        "!unzip -q ../hw_yolo.zip -d /content/"
      ]
    },
    {
      "cell_type": "code",
      "execution_count": null,
      "metadata": {
        "id": "Jq5ABEc7GDWi"
      },
      "outputs": [],
      "source": [
        "!python train.py --img 640 --batch 16 --epochs 150 --data /content/hw_yolo/sours/custom_data.yaml --weights yolov5s.pt --cache"
      ]
    },
    {
      "cell_type": "code",
      "execution_count": null,
      "metadata": {
        "id": "SQJaUECJwgC4"
      },
      "outputs": [],
      "source": [
        "!python /content/yolov5/detect.py --weights /content/hw_yolo/sours/weight.pt --source /content/hw_yolo/images/train   --data /content/hw_yolo/sours/custom_data.yaml --save-txt"
      ]
    },
    {
      "cell_type": "code",
      "source": [
        "import os\n",
        "os.environ['TF_CPP_MIN_LOG_LEVEL'] = '2'\n",
        "import cv2\n",
        "import numpy as np\n",
        "import pandas as pd\n",
        "import matplotlib.pyplot as plt\n",
        "from tensorflow.keras.datasets import mnist         # библиотека базы выборок Mnist\n",
        "from tensorflow import keras\n",
        "from keras.layers import Dense, Flatten, Conv2D, MaxPooling2D\n",
        "from tensorflow.keras.callbacks import ModelCheckpoint"
      ],
      "metadata": {
        "id": "yVgvX4-nN1la"
      },
      "execution_count": 6,
      "outputs": []
    },
    {
      "cell_type": "code",
      "execution_count": null,
      "metadata": {
        "id": "IvtYwWZMvU2W"
      },
      "outputs": [],
      "source": [
        "# Model 1 keras: 3 hidden cnn \n",
        "model = keras.Sequential([\n",
        "        Conv2D(32, (3,3), padding='same', activation='relu', input_shape=(28, 28, 1)),\n",
        "        MaxPooling2D((2, 2), strides=2),\n",
        "        Conv2D(64, (3,3), padding='same', activation='relu'),\n",
        "        MaxPooling2D((2, 2), strides=2),\n",
        "        Conv2D(128, (3,3), padding='same', activation='relu'),\n",
        "        MaxPooling2D((2, 2), strides=2),\n",
        "        Flatten(),\n",
        "        Dense(512, activation='relu'),\n",
        "        Dense(10, activation='softmax')\n",
        "      ])\n",
        "def train():\n",
        "    (x_train, y_train), (x_test, y_test) = mnist.load_data()\n",
        "    \n",
        "    x_train = x_train.astype(np.float32)\n",
        "    x_train /= 255.0\n",
        "    x_test = x_test.astype(np.float32)\n",
        "    x_test /= 255.0\n",
        "\n",
        "    y_train_cat = keras.utils.to_categorical(y_train, 10)\n",
        "    y_test_cat = keras.utils.to_categorical(y_test, 10)\n",
        "\n",
        "    cv2.imwrite('/content/x_train.png',x_train[0])\n",
        "\n",
        "    x_train = np.expand_dims(x_train, axis=3)\n",
        "    x_test = np.expand_dims(x_test, axis=3)\n",
        "  \n",
        "    learning_rate_reduction = keras.callbacks.ReduceLROnPlateau(monitor='val_acc', patience=3, verbose=1, factor=0.5, min_lr=0.00001)\n",
        "\n",
        "    model.compile(optimizer='adam', loss='categorical_crossentropy', metrics=['accuracy'])\n",
        "    model.fit(x_train, y_train_cat, batch_size=32, epochs=7, validation_split=0.2, callbacks=[learning_rate_reduction])\n",
        "    model.evaluate(x_test, y_test_cat)\n",
        "    model.save('/content/mnist_letters.h5')\n",
        "        \n",
        "train()\n"
      ]
    },
    {
      "cell_type": "code",
      "execution_count": null,
      "metadata": {
        "id": "6X1MdHrLLDPR"
      },
      "outputs": [],
      "source": [
        ""
      ]
    },
    {
      "cell_type": "code",
      "source": [
        "import cv2\n",
        "import numpy as np\n",
        "from os import path\n",
        "import glob\n",
        "letter_list = []\n",
        "k = 0\n",
        "for imageName, textName in zip(sorted(glob.glob('/content/hw_yolo/images/train/*')),\n",
        "                               sorted(glob.glob('/content/yolov5/runs/detect/exp4/labels/*'))):\n",
        "\n",
        "    image_file = (imageName)\n",
        "    fr = open(textName)\n",
        "    lines = fr.readlines()\n",
        "    line_nums = len(lines)\n",
        "\n",
        "    if line_nums > 1: \n",
        "      x_mat = []\n",
        "      contours = np.zeros((line_nums, 4))\n",
        "      for i in range(line_nums):\n",
        "          line = lines[i]\n",
        "          item_mat = line.split(',')\n",
        "          x_mat.append(item_mat[0:4]) # Получить 4 функции\n",
        "      fr.close()\n",
        "      for i in range(line_nums):\n",
        "        contours[i]= x_mat[i]\n",
        "\n",
        "      # сортировка по х\n",
        "      contours = sorted(contours, key = lambda x:x[0],reverse = False)\n",
        "      print(contours)\n",
        "      contours_y = contours[0][1]\n",
        "      contour=[]\n",
        "\n",
        "      # проверка повторения координат\n",
        "      i = 0\n",
        "      while (i < len(contours)-1):\n",
        "        if contours[i][0] >= contours[i+1][0] - 1:\n",
        "          del contours[i]\n",
        "        i+=1\n",
        "      # сортировка по у\n",
        "      i = 0\n",
        "      for cont in contours:\n",
        "        if cont[1]> contours_y + 5 or cont[1]< contours_y - 5 :\n",
        "          contour.append(cont)\n",
        "          del contour[i]\n",
        "        i += 1\n",
        "        contour.append(cont) \n",
        "\n",
        "      letters = []\n",
        "      out_size=28\n",
        "      # преобразование изображения\n",
        "      img = cv2.imread(image_file)\n",
        "      gray = cv2.cvtColor(img, cv2.COLOR_BGR2GRAY)\n",
        "      ret, thresh = cv2.threshold(gray, 200, 255, cv2.THRESH_BINARY)\n",
        "      img_erode = cv2.erode(thresh, np.ones((1, 2), np.uint8), iterations=1)\n",
        "      output = img_erode.copy()\n",
        "\n",
        "      for contour in contours:\n",
        "          x = int(contour[0]-8)\n",
        "          y = int(contour[1]-8)\n",
        "          w = int(contour[2])\n",
        "          h = int(contour[3])\n",
        "          cv2.rectangle(output, (x, y), (x + w, y + h), (70, 0, 0), 1)\n",
        "\n",
        "          letter_crop = img_erode[y:y + h, x:x + w]\n",
        "          size_max = max(w, h)\n",
        "          letter_square = 255 * np.ones(shape=[size_max, size_max], dtype=np.uint8)\n",
        "          \n",
        "          if w > h:\n",
        "              y_pos = size_max//2 - h//2\n",
        "              letter_square[y_pos:y_pos + h, 0:w] = letter_crop\n",
        "          elif w < h:\n",
        "              x_pos = size_max//2 - w//2\n",
        "              letter_square[0:h, x_pos:x_pos + w] = letter_crop\n",
        "          else:\n",
        "              letter_square = letter_crop\n",
        "\n",
        "          letters.append((x, w ,cv2.resize(letter_square, (out_size, out_size), interpolation=cv2.INTER_AREA)))\n",
        "      k = k+1\n",
        "      num = str(k)\n",
        "      cv2.imwrite('/content/'+ num +'output.png',output)\n",
        "\n",
        "      letter_list.append(letters)\n"
      ],
      "metadata": {
        "id": "kggJTkHT1Iz5"
      },
      "execution_count": null,
      "outputs": []
    },
    {
      "cell_type": "code",
      "source": [
        "# получение заданных маркеров цифр\n",
        "labels = []\n",
        "for imageLabel in sorted(glob.glob('/content/hw_yolo/labels/train/*')):\n",
        "    fr = open(imageLabel)\n",
        "    lines = fr.readlines()\n",
        "    line_nums = len(lines)\n",
        "    if line_nums > 1: \n",
        "\n",
        "      x_mat = []\n",
        "      contours = np.zeros((line_nums, 5))\n",
        "      for i in range(line_nums):\n",
        "          line = lines[i]\n",
        "          item_mat = line.split(' ')\n",
        "          x_mat.append(item_mat[0:5]) # Получить 4 функции\n",
        "      fr.close()\n",
        "\n",
        "      for i in range(line_nums):\n",
        "        contours[i]= x_mat[i]\n",
        "      contours = sorted(contours, key = lambda x:x[0],reverse = False)\n",
        "\n",
        "      contours_y = contours[0][2]\n",
        "      contour=[]\n",
        "      i = 0\n",
        "      for cont in contours:\n",
        "        if cont[1]> contours_y + 5 or cont[1]< contours_y - 5 :\n",
        "          contour.append(cont)\n",
        "          del contour[i]\n",
        "        i += 1\n",
        "        contour.append(cont)\n",
        "\n",
        "      lab_cont = np.zeros((len(contour),1))\n",
        "      for i in range(len(contour)):\n",
        "          lab_cont[i] = contour[i][0]\n",
        "      labels.append(lab_cont)\n",
        "      "
      ],
      "metadata": {
        "id": "6fkFG9zwHraJ"
      },
      "execution_count": null,
      "outputs": []
    },
    {
      "cell_type": "code",
      "source": [
        "# предсказание \n",
        "def mnist_predict_img(model, img):\n",
        "    img_arr = 1 - img/255\n",
        "    x = np.expand_dims(img_arr, axis=0)\n",
        "    res = model.predict(x)\n",
        "    return str(np.argmax(res))\n",
        "\n",
        "# проход по массиву изображений\n",
        "def img_to_str(model, letter_list):\n",
        "    outp_ex = []\n",
        "    for j in range(len(letter_list)):\n",
        "      s_out = ''\n",
        "      letters = letter_list[j]\n",
        "      for i in range(len(letters)):\n",
        "        dn = letters[i+1][0] - letters[i][0] - letters[i][1] if i < len(letters) - 1 else 0\n",
        "        listb = letters[i][2]\n",
        "        s_out += mnist_predict_img(model, listb)\n",
        "        if (dn > letters[i][1]/3):\n",
        "           s_out += ' '\n",
        "      outp_ex.append(s_out)            \n",
        "    return outp_ex\n",
        "\n",
        "model = keras.models.load_model('/content/mnist_letters.h5')\n",
        "s_out = img_to_str(model, letter_list)\n",
        "print(s_out)"
      ],
      "metadata": {
        "colab": {
          "base_uri": "https://localhost:8080/"
        },
        "id": "5p1SykmRHVSN",
        "outputId": "66fbc10d-f22e-4492-82e4-ea616214d9bc"
      },
      "execution_count": 108,
      "outputs": [
        {
          "output_type": "stream",
          "name": "stdout",
          "text": [
            "['52 72 2 1574 4266', '3072 58 11 25332', '3 12 2120 064 141 23 0', '6 44 11 1411 73 4', '21112622 6 3287', '3476 6666 0 04 7 716525', '50', '1 11 7177', '16 6 6061', '26122021 1 5388 1', '27 2 7', '2512 21 3213', '25 12 2 21 0 5413', '7 1122', '061', '75 747 77 577', '46 04 272 561', '12 07 2444', '25 1196', '61 42 2661', '211156127591 456', '54 157453', '35 22017 1 4 4', '2116 414 66 72 7', '48 12 402 15 145', '55 12 2011 04006 2 1 8622', '63 1 2117 04 531', '244 12 212 1 537 04 1415', '24 876 22 4', '4 183', '36 640', '75 12 2011 5135', '36 12 2041 21515', '50 1 2', '21 16 7261', '26122061 24 16 4112', '7 6642 0241 1224 260527116', '151 55 41', '7416 2 61 1 4613 21 0 5', '6114']\n"
          ]
        }
      ]
    },
    {
      "cell_type": "markdown",
      "source": [
        ""
      ],
      "metadata": {
        "id": "d_s3UttxBelt"
      }
    }
  ],
  "metadata": {
    "accelerator": "GPU",
    "colab": {
      "collapsed_sections": [],
      "name": "yoolo.ipynb",
      "provenance": []
    },
    "gpuClass": "standard",
    "kernelspec": {
      "display_name": "Python 3",
      "name": "python3"
    },
    "language_info": {
      "name": "python"
    }
  },
  "nbformat": 4,
  "nbformat_minor": 0
}